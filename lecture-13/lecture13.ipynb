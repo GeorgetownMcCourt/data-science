{
 "cells": [
  {
   "cell_type": "markdown",
   "metadata": {},
   "source": [
    "## Python for Data Science, the basics\n",
    "\n",
    "The objective of this section is to introduce some basic concepts in Python that are especially relevant to data science for public policy.  Many of these examples have been assembled from existing tutorials.  "
   ]
  },
  {
   "cell_type": "markdown",
   "metadata": {},
   "source": [
    "### Functions\n",
    "\n",
    "Python functions are not all that different from `R` functions.  The syntax to declare a function is slightly different.  Python uses the `def` keyword to start a function, here is the syntax:\n",
    "\n",
    "```python\n",
    "def function_name(arg1, arg2, arg3, .... argN):\n",
    "     #statement inside function\n",
    "```\n",
    "\n",
    "**Note**: All the statements inside the function should be indented using equal spaces. Function can accept zero or more arguments(also known as parameters) enclosed in parentheses. You can also omit the body of the function using the  pass keyword, like this:\n",
    "\n",
    "```python\n",
    "def myfunc():\n",
    "    pass\n",
    "```\n",
    "\n",
    "Here is an example that calculates the running sum between the supplied arguments.  The function updates `result` .  Note also that Python, unlike `R`, is zero-indexed and not inclusive of the end argument (hence the `end + 1` in `range`)."
   ]
  },
  {
   "cell_type": "code",
   "execution_count": 1,
   "metadata": {},
   "outputs": [
    {
     "name": "stdout",
     "output_type": "stream",
     "text": [
      "\n",
      "The sum is:\n",
      "1230\n",
      "\n",
      "The sum is: 1230\n"
     ]
    }
   ],
   "source": [
    "def mysum(start, end):\n",
    "    result = 0\n",
    "    for i in range(start, end + 1):\n",
    "        result += i\n",
    "\n",
    "    # one way to print the result, note the comment syntax\n",
    "    print(\"\")\n",
    "    print(\"The sum is:\")\n",
    "    print(result)\n",
    "    \n",
    "    # another way to print the same result\n",
    "    print(\"\\nThe sum is: %s\" % result)\n",
    "\n",
    "mysum(10, 50)"
   ]
  },
  {
   "cell_type": "markdown",
   "metadata": {},
   "source": [
    "The above function simply prints the result to the console, what if we want to assign the result to a variable for further processing? Then we need to use the `return` statement. The `return` statement sends a result back to the caller and exits the function."
   ]
  },
  {
   "cell_type": "code",
   "execution_count": 2,
   "metadata": {},
   "outputs": [
    {
     "name": "stdout",
     "output_type": "stream",
     "text": [
      "1230\n"
     ]
    }
   ],
   "source": [
    "def mysum(start, end):\n",
    "    result = 0\n",
    "    for i in range(start, end + 1):\n",
    "        result += i\n",
    "    return result\n",
    "\n",
    "s = mysum(10, 50)\n",
    "print(s)"
   ]
  },
  {
   "cell_type": "code",
   "execution_count": 3,
   "metadata": {
    "scrolled": true
   },
   "outputs": [
    {
     "name": "stdout",
     "output_type": "stream",
     "text": [
      "start should be less than end\n",
      "None\n"
     ]
    }
   ],
   "source": [
    "def mysum(start, end):\n",
    "    if(start > end):\n",
    "        print(\"start should be less than end\")\n",
    "        return    # here we are not returning any value so a special value None is returned\n",
    "    \n",
    "    result = 0\n",
    "    for i in range(start, end + 1):\n",
    "        result += i\n",
    "    return result\n",
    "\n",
    "s = mysum(110, 50)\n",
    "print(s)"
   ]
  },
  {
   "cell_type": "markdown",
   "metadata": {},
   "source": [
    "You can also raise `Exceptions` to either stop the process or do specific things based on the type of exception."
   ]
  },
  {
   "cell_type": "code",
   "execution_count": 4,
   "metadata": {},
   "outputs": [
    {
     "ename": "Exception",
     "evalue": "What sort of backwards world do you think we live in?",
     "output_type": "error",
     "traceback": [
      "\u001b[0;31m---------------------------------------------------------------------------\u001b[0m",
      "\u001b[0;31mException\u001b[0m                                 Traceback (most recent call last)",
      "\u001b[0;32m<ipython-input-4-4971936db0f3>\u001b[0m in \u001b[0;36m<module>\u001b[0;34m()\u001b[0m\n\u001b[1;32m      8\u001b[0m     \u001b[0;32mreturn\u001b[0m \u001b[0mresult\u001b[0m\u001b[0;34m\u001b[0m\u001b[0m\n\u001b[1;32m      9\u001b[0m \u001b[0;34m\u001b[0m\u001b[0m\n\u001b[0;32m---> 10\u001b[0;31m \u001b[0ms\u001b[0m \u001b[0;34m=\u001b[0m \u001b[0mmysum\u001b[0m\u001b[0;34m(\u001b[0m\u001b[0;36m110\u001b[0m\u001b[0;34m,\u001b[0m \u001b[0;36m50\u001b[0m\u001b[0;34m)\u001b[0m\u001b[0;34m\u001b[0m\u001b[0m\n\u001b[0m\u001b[1;32m     11\u001b[0m \u001b[0mprint\u001b[0m\u001b[0;34m(\u001b[0m\u001b[0ms\u001b[0m\u001b[0;34m)\u001b[0m\u001b[0;34m\u001b[0m\u001b[0m\n",
      "\u001b[0;32m<ipython-input-4-4971936db0f3>\u001b[0m in \u001b[0;36mmysum\u001b[0;34m(start, end)\u001b[0m\n\u001b[1;32m      1\u001b[0m \u001b[0;32mdef\u001b[0m \u001b[0mmysum\u001b[0m\u001b[0;34m(\u001b[0m\u001b[0mstart\u001b[0m\u001b[0;34m,\u001b[0m \u001b[0mend\u001b[0m\u001b[0;34m)\u001b[0m\u001b[0;34m:\u001b[0m\u001b[0;34m\u001b[0m\u001b[0m\n\u001b[1;32m      2\u001b[0m     \u001b[0;32mif\u001b[0m\u001b[0;34m(\u001b[0m\u001b[0mstart\u001b[0m \u001b[0;34m>\u001b[0m \u001b[0mend\u001b[0m\u001b[0;34m)\u001b[0m\u001b[0;34m:\u001b[0m\u001b[0;34m\u001b[0m\u001b[0m\n\u001b[0;32m----> 3\u001b[0;31m         \u001b[0;32mraise\u001b[0m \u001b[0mException\u001b[0m\u001b[0;34m(\u001b[0m\u001b[0;34m\"What sort of backwards world do you think we live in?\"\u001b[0m\u001b[0;34m)\u001b[0m\u001b[0;34m\u001b[0m\u001b[0m\n\u001b[0m\u001b[1;32m      4\u001b[0m \u001b[0;34m\u001b[0m\u001b[0m\n\u001b[1;32m      5\u001b[0m     \u001b[0mresult\u001b[0m \u001b[0;34m=\u001b[0m \u001b[0;36m0\u001b[0m\u001b[0;34m\u001b[0m\u001b[0m\n",
      "\u001b[0;31mException\u001b[0m: What sort of backwards world do you think we live in?"
     ]
    }
   ],
   "source": [
    "def mysum(start, end):\n",
    "    if(start > end):\n",
    "        raise Exception(\"What sort of backwards world do you think we live in?\")\n",
    "    \n",
    "    result = 0\n",
    "    for i in range(start, end + 1):\n",
    "        result += i\n",
    "    return result\n",
    "\n",
    "s = mysum(110, 50)\n",
    "print(s)"
   ]
  },
  {
   "cell_type": "markdown",
   "metadata": {},
   "source": [
    "**PRACTICE 1**: Write a function to calculate $x^y$ iteratively.  That is, you supply the argument `x` and multiply it by itself `y` times.  Bonus if you set the inital values appropriately and use the `ValueError` exception for negative `y` values."
   ]
  },
  {
   "cell_type": "code",
   "execution_count": null,
   "metadata": {
    "collapsed": true
   },
   "outputs": [],
   "source": [
    "# Insert answer here"
   ]
  },
  {
   "cell_type": "markdown",
   "metadata": {},
   "source": [
    "**PRACTICE 2**: Write a function to count the number of words in a supplied sentence.  Use the [`split()`](http://stackoverflow.com/questions/4071396/split-by-comma-and-strip-whitespace-in-python) method."
   ]
  },
  {
   "cell_type": "code",
   "execution_count": null,
   "metadata": {
    "collapsed": true
   },
   "outputs": [],
   "source": [
    "# Insert answer here"
   ]
  },
  {
   "cell_type": "markdown",
   "metadata": {},
   "source": [
    "### Pandas\n",
    "\n",
    "Python is used for many things, including web development, backend operations, and data science.  A few packages have been developed for Python that were specifically built to handle data types and operations that are common in data science.  The most notable is [`Pandas`](http://pandas.pydata.org/).  There are three basic datatype in pandas:\n",
    "\n",
    "1. **Series**: A one-dimensional labeled array capable of holding any data type (integers, strings, floating point numbers, Python objects, etc.).\n",
    "2. **DataFrame**: A 2-dimensional labeled data structure with columns of potentially different types. You can think of it like a spreadsheet or SQL table, or a dict of Series objects. It is generally the most commonly used pandas object. \n",
    "3. **Panel**: A somewhat less-used, but still important container for 3-dimensional data. The term panel data is derived from econometrics and is partially responsible for the name pandas: pan(el)-da(ta)-s. The names for the 3 axes are intended to give some semantic meaning to describing operations involving panel data and, in particular, econometric analysis of panel data.\n",
    "\n",
    "Note that the data structures are composed of themselves, with higher orders of complexity.  Here we start to explore the basics of interacting with pandas.  First, import the package.  You may have to install it, unless you used Anaconda to install Jupyter and Python."
   ]
  },
  {
   "cell_type": "code",
   "execution_count": 7,
   "metadata": {
    "collapsed": true
   },
   "outputs": [],
   "source": [
    "import pandas"
   ]
  },
  {
   "cell_type": "markdown",
   "metadata": {},
   "source": [
    "Create a Series by passing a list of values, letting pandas create a default integer index:"
   ]
  },
  {
   "cell_type": "code",
   "execution_count": 8,
   "metadata": {},
   "outputs": [
    {
     "name": "stdout",
     "output_type": "stream",
     "text": [
      "0    1.0\n",
      "1    3.0\n",
      "2    5.0\n",
      "3    NaN\n",
      "4    6.0\n",
      "5    8.0\n",
      "dtype: float64\n"
     ]
    }
   ],
   "source": [
    "s = pandas.Series([1, 3, 5, None, 6, 8])\n",
    "print(s)"
   ]
  },
  {
   "cell_type": "markdown",
   "metadata": {},
   "source": [
    "Create a DataFrame by passing a numpy array, with a datetime index and labeled columns.  You will have to import `numpy` or numerical python to generate random numbers."
   ]
  },
  {
   "cell_type": "code",
   "execution_count": 9,
   "metadata": {},
   "outputs": [
    {
     "name": "stdout",
     "output_type": "stream",
     "text": [
      "['A', 'B', 'C', 'D']\n"
     ]
    },
    {
     "data": {
      "text/plain": [
       "(6, 4)"
      ]
     },
     "execution_count": 9,
     "metadata": {},
     "output_type": "execute_result"
    }
   ],
   "source": [
    "import numpy\n",
    "\n",
    "dates = pandas.date_range('20130101', periods=6)\n",
    "columns = list('ABCD')\n",
    "randos = numpy.random.randn(6,4)\n",
    "print(columns)\n",
    "randos.shape"
   ]
  },
  {
   "cell_type": "code",
   "execution_count": 10,
   "metadata": {
    "scrolled": true
   },
   "outputs": [
    {
     "name": "stdout",
     "output_type": "stream",
     "text": [
      "A    float64\n",
      "B    float64\n",
      "C    float64\n",
      "D    float64\n",
      "dtype: object\n",
      "(6, 4)\n"
     ]
    },
    {
     "data": {
      "text/html": [
       "<div>\n",
       "<table border=\"1\" class=\"dataframe\">\n",
       "  <thead>\n",
       "    <tr style=\"text-align: right;\">\n",
       "      <th></th>\n",
       "      <th>A</th>\n",
       "      <th>B</th>\n",
       "      <th>C</th>\n",
       "      <th>D</th>\n",
       "    </tr>\n",
       "  </thead>\n",
       "  <tbody>\n",
       "    <tr>\n",
       "      <th>2013-01-01</th>\n",
       "      <td>-1.125246</td>\n",
       "      <td>-0.381719</td>\n",
       "      <td>1.813668</td>\n",
       "      <td>-0.911999</td>\n",
       "    </tr>\n",
       "    <tr>\n",
       "      <th>2013-01-02</th>\n",
       "      <td>-0.995033</td>\n",
       "      <td>-0.750741</td>\n",
       "      <td>-2.201204</td>\n",
       "      <td>1.371349</td>\n",
       "    </tr>\n",
       "    <tr>\n",
       "      <th>2013-01-03</th>\n",
       "      <td>-0.378763</td>\n",
       "      <td>0.279895</td>\n",
       "      <td>-0.093675</td>\n",
       "      <td>0.255060</td>\n",
       "    </tr>\n",
       "    <tr>\n",
       "      <th>2013-01-04</th>\n",
       "      <td>-0.928351</td>\n",
       "      <td>-0.755839</td>\n",
       "      <td>-0.532296</td>\n",
       "      <td>0.844673</td>\n",
       "    </tr>\n",
       "    <tr>\n",
       "      <th>2013-01-05</th>\n",
       "      <td>-1.939081</td>\n",
       "      <td>1.987731</td>\n",
       "      <td>1.275682</td>\n",
       "      <td>-1.469973</td>\n",
       "    </tr>\n",
       "    <tr>\n",
       "      <th>2013-01-06</th>\n",
       "      <td>0.643405</td>\n",
       "      <td>0.530623</td>\n",
       "      <td>-1.363361</td>\n",
       "      <td>-0.537567</td>\n",
       "    </tr>\n",
       "  </tbody>\n",
       "</table>\n",
       "</div>"
      ],
      "text/plain": [
       "                   A         B         C         D\n",
       "2013-01-01 -1.125246 -0.381719  1.813668 -0.911999\n",
       "2013-01-02 -0.995033 -0.750741 -2.201204  1.371349\n",
       "2013-01-03 -0.378763  0.279895 -0.093675  0.255060\n",
       "2013-01-04 -0.928351 -0.755839 -0.532296  0.844673\n",
       "2013-01-05 -1.939081  1.987731  1.275682 -1.469973\n",
       "2013-01-06  0.643405  0.530623 -1.363361 -0.537567"
      ]
     },
     "execution_count": 10,
     "metadata": {},
     "output_type": "execute_result"
    }
   ],
   "source": [
    "df = pandas.DataFrame(randos, index=dates, columns=columns)\n",
    "print(df.dtypes)\n",
    "print(df.shape)\n",
    "df"
   ]
  },
  {
   "cell_type": "markdown",
   "metadata": {},
   "source": [
    "Much like `R` you can view useful slices of the DataFrame using built-in functions.  You can also describe or summarize the data, transpose the data frame, sort values, and split the object into its components -- all using built-in functions."
   ]
  },
  {
   "cell_type": "code",
   "execution_count": 11,
   "metadata": {},
   "outputs": [
    {
     "data": {
      "text/html": [
       "<div>\n",
       "<table border=\"1\" class=\"dataframe\">\n",
       "  <thead>\n",
       "    <tr style=\"text-align: right;\">\n",
       "      <th></th>\n",
       "      <th>A</th>\n",
       "      <th>B</th>\n",
       "      <th>C</th>\n",
       "      <th>D</th>\n",
       "    </tr>\n",
       "  </thead>\n",
       "  <tbody>\n",
       "    <tr>\n",
       "      <th>2013-01-01</th>\n",
       "      <td>-1.125246</td>\n",
       "      <td>-0.381719</td>\n",
       "      <td>1.813668</td>\n",
       "      <td>-0.911999</td>\n",
       "    </tr>\n",
       "    <tr>\n",
       "      <th>2013-01-02</th>\n",
       "      <td>-0.995033</td>\n",
       "      <td>-0.750741</td>\n",
       "      <td>-2.201204</td>\n",
       "      <td>1.371349</td>\n",
       "    </tr>\n",
       "    <tr>\n",
       "      <th>2013-01-03</th>\n",
       "      <td>-0.378763</td>\n",
       "      <td>0.279895</td>\n",
       "      <td>-0.093675</td>\n",
       "      <td>0.255060</td>\n",
       "    </tr>\n",
       "  </tbody>\n",
       "</table>\n",
       "</div>"
      ],
      "text/plain": [
       "                   A         B         C         D\n",
       "2013-01-01 -1.125246 -0.381719  1.813668 -0.911999\n",
       "2013-01-02 -0.995033 -0.750741 -2.201204  1.371349\n",
       "2013-01-03 -0.378763  0.279895 -0.093675  0.255060"
      ]
     },
     "execution_count": 11,
     "metadata": {},
     "output_type": "execute_result"
    }
   ],
   "source": [
    "df.head(3)"
   ]
  },
  {
   "cell_type": "code",
   "execution_count": 12,
   "metadata": {
    "scrolled": true
   },
   "outputs": [
    {
     "data": {
      "text/html": [
       "<div>\n",
       "<table border=\"1\" class=\"dataframe\">\n",
       "  <thead>\n",
       "    <tr style=\"text-align: right;\">\n",
       "      <th></th>\n",
       "      <th>A</th>\n",
       "      <th>B</th>\n",
       "      <th>C</th>\n",
       "      <th>D</th>\n",
       "    </tr>\n",
       "  </thead>\n",
       "  <tbody>\n",
       "    <tr>\n",
       "      <th>2013-01-05</th>\n",
       "      <td>-1.939081</td>\n",
       "      <td>1.987731</td>\n",
       "      <td>1.275682</td>\n",
       "      <td>-1.469973</td>\n",
       "    </tr>\n",
       "    <tr>\n",
       "      <th>2013-01-06</th>\n",
       "      <td>0.643405</td>\n",
       "      <td>0.530623</td>\n",
       "      <td>-1.363361</td>\n",
       "      <td>-0.537567</td>\n",
       "    </tr>\n",
       "  </tbody>\n",
       "</table>\n",
       "</div>"
      ],
      "text/plain": [
       "                   A         B         C         D\n",
       "2013-01-05 -1.939081  1.987731  1.275682 -1.469973\n",
       "2013-01-06  0.643405  0.530623 -1.363361 -0.537567"
      ]
     },
     "execution_count": 12,
     "metadata": {},
     "output_type": "execute_result"
    }
   ],
   "source": [
    "df.tail(2)"
   ]
  },
  {
   "cell_type": "code",
   "execution_count": 13,
   "metadata": {},
   "outputs": [
    {
     "data": {
      "text/html": [
       "<div>\n",
       "<table border=\"1\" class=\"dataframe\">\n",
       "  <thead>\n",
       "    <tr style=\"text-align: right;\">\n",
       "      <th></th>\n",
       "      <th>A</th>\n",
       "      <th>B</th>\n",
       "      <th>C</th>\n",
       "      <th>D</th>\n",
       "    </tr>\n",
       "  </thead>\n",
       "  <tbody>\n",
       "    <tr>\n",
       "      <th>count</th>\n",
       "      <td>6.000000</td>\n",
       "      <td>6.000000</td>\n",
       "      <td>6.000000</td>\n",
       "      <td>6.000000</td>\n",
       "    </tr>\n",
       "    <tr>\n",
       "      <th>mean</th>\n",
       "      <td>-0.787178</td>\n",
       "      <td>0.151658</td>\n",
       "      <td>-0.183531</td>\n",
       "      <td>-0.074743</td>\n",
       "    </tr>\n",
       "    <tr>\n",
       "      <th>std</th>\n",
       "      <td>0.862285</td>\n",
       "      <td>1.044374</td>\n",
       "      <td>1.530413</td>\n",
       "      <td>1.086936</td>\n",
       "    </tr>\n",
       "    <tr>\n",
       "      <th>min</th>\n",
       "      <td>-1.939081</td>\n",
       "      <td>-0.755839</td>\n",
       "      <td>-2.201204</td>\n",
       "      <td>-1.469973</td>\n",
       "    </tr>\n",
       "    <tr>\n",
       "      <th>25%</th>\n",
       "      <td>-1.092693</td>\n",
       "      <td>-0.658485</td>\n",
       "      <td>-1.155594</td>\n",
       "      <td>-0.818391</td>\n",
       "    </tr>\n",
       "    <tr>\n",
       "      <th>50%</th>\n",
       "      <td>-0.961692</td>\n",
       "      <td>-0.050912</td>\n",
       "      <td>-0.312985</td>\n",
       "      <td>-0.141254</td>\n",
       "    </tr>\n",
       "    <tr>\n",
       "      <th>75%</th>\n",
       "      <td>-0.516160</td>\n",
       "      <td>0.467941</td>\n",
       "      <td>0.933343</td>\n",
       "      <td>0.697270</td>\n",
       "    </tr>\n",
       "    <tr>\n",
       "      <th>max</th>\n",
       "      <td>0.643405</td>\n",
       "      <td>1.987731</td>\n",
       "      <td>1.813668</td>\n",
       "      <td>1.371349</td>\n",
       "    </tr>\n",
       "  </tbody>\n",
       "</table>\n",
       "</div>"
      ],
      "text/plain": [
       "              A         B         C         D\n",
       "count  6.000000  6.000000  6.000000  6.000000\n",
       "mean  -0.787178  0.151658 -0.183531 -0.074743\n",
       "std    0.862285  1.044374  1.530413  1.086936\n",
       "min   -1.939081 -0.755839 -2.201204 -1.469973\n",
       "25%   -1.092693 -0.658485 -1.155594 -0.818391\n",
       "50%   -0.961692 -0.050912 -0.312985 -0.141254\n",
       "75%   -0.516160  0.467941  0.933343  0.697270\n",
       "max    0.643405  1.987731  1.813668  1.371349"
      ]
     },
     "execution_count": 13,
     "metadata": {},
     "output_type": "execute_result"
    }
   ],
   "source": [
    "df.describe()"
   ]
  },
  {
   "cell_type": "code",
   "execution_count": 14,
   "metadata": {},
   "outputs": [
    {
     "data": {
      "text/plain": [
       "array([[-1.12524613, -0.38171931,  1.81366801, -0.91199866],\n",
       "       [-0.99503303, -0.75074055, -2.20120413,  1.37134923],\n",
       "       [-0.37876336,  0.27989473, -0.09367454,  0.25505951],\n",
       "       [-0.92835061, -0.75583889, -0.53229585,  0.84467316],\n",
       "       [-1.93908051,  1.9877306 ,  1.27568153, -1.46997254],\n",
       "       [ 0.64340537,  0.5306228 , -1.36336056, -0.53756677]])"
      ]
     },
     "execution_count": 14,
     "metadata": {},
     "output_type": "execute_result"
    }
   ],
   "source": [
    "df.values"
   ]
  },
  {
   "cell_type": "code",
   "execution_count": 15,
   "metadata": {},
   "outputs": [
    {
     "data": {
      "text/html": [
       "<div>\n",
       "<table border=\"1\" class=\"dataframe\">\n",
       "  <thead>\n",
       "    <tr style=\"text-align: right;\">\n",
       "      <th></th>\n",
       "      <th>A</th>\n",
       "      <th>B</th>\n",
       "      <th>C</th>\n",
       "      <th>D</th>\n",
       "    </tr>\n",
       "  </thead>\n",
       "  <tbody>\n",
       "    <tr>\n",
       "      <th>2013-01-06</th>\n",
       "      <td>0.643405</td>\n",
       "      <td>0.530623</td>\n",
       "      <td>-1.363361</td>\n",
       "      <td>-0.537567</td>\n",
       "    </tr>\n",
       "    <tr>\n",
       "      <th>2013-01-05</th>\n",
       "      <td>-1.939081</td>\n",
       "      <td>1.987731</td>\n",
       "      <td>1.275682</td>\n",
       "      <td>-1.469973</td>\n",
       "    </tr>\n",
       "    <tr>\n",
       "      <th>2013-01-04</th>\n",
       "      <td>-0.928351</td>\n",
       "      <td>-0.755839</td>\n",
       "      <td>-0.532296</td>\n",
       "      <td>0.844673</td>\n",
       "    </tr>\n",
       "    <tr>\n",
       "      <th>2013-01-03</th>\n",
       "      <td>-0.378763</td>\n",
       "      <td>0.279895</td>\n",
       "      <td>-0.093675</td>\n",
       "      <td>0.255060</td>\n",
       "    </tr>\n",
       "    <tr>\n",
       "      <th>2013-01-02</th>\n",
       "      <td>-0.995033</td>\n",
       "      <td>-0.750741</td>\n",
       "      <td>-2.201204</td>\n",
       "      <td>1.371349</td>\n",
       "    </tr>\n",
       "    <tr>\n",
       "      <th>2013-01-01</th>\n",
       "      <td>-1.125246</td>\n",
       "      <td>-0.381719</td>\n",
       "      <td>1.813668</td>\n",
       "      <td>-0.911999</td>\n",
       "    </tr>\n",
       "  </tbody>\n",
       "</table>\n",
       "</div>"
      ],
      "text/plain": [
       "                   A         B         C         D\n",
       "2013-01-06  0.643405  0.530623 -1.363361 -0.537567\n",
       "2013-01-05 -1.939081  1.987731  1.275682 -1.469973\n",
       "2013-01-04 -0.928351 -0.755839 -0.532296  0.844673\n",
       "2013-01-03 -0.378763  0.279895 -0.093675  0.255060\n",
       "2013-01-02 -0.995033 -0.750741 -2.201204  1.371349\n",
       "2013-01-01 -1.125246 -0.381719  1.813668 -0.911999"
      ]
     },
     "execution_count": 15,
     "metadata": {},
     "output_type": "execute_result"
    }
   ],
   "source": [
    "df.sort_index(axis=0, ascending=False)"
   ]
  },
  {
   "cell_type": "code",
   "execution_count": 16,
   "metadata": {},
   "outputs": [
    {
     "data": {
      "text/html": [
       "<div>\n",
       "<table border=\"1\" class=\"dataframe\">\n",
       "  <thead>\n",
       "    <tr style=\"text-align: right;\">\n",
       "      <th></th>\n",
       "      <th>A</th>\n",
       "      <th>B</th>\n",
       "      <th>C</th>\n",
       "      <th>D</th>\n",
       "    </tr>\n",
       "  </thead>\n",
       "  <tbody>\n",
       "    <tr>\n",
       "      <th>2013-01-04</th>\n",
       "      <td>-0.928351</td>\n",
       "      <td>-0.755839</td>\n",
       "      <td>-0.532296</td>\n",
       "      <td>0.844673</td>\n",
       "    </tr>\n",
       "    <tr>\n",
       "      <th>2013-01-02</th>\n",
       "      <td>-0.995033</td>\n",
       "      <td>-0.750741</td>\n",
       "      <td>-2.201204</td>\n",
       "      <td>1.371349</td>\n",
       "    </tr>\n",
       "    <tr>\n",
       "      <th>2013-01-01</th>\n",
       "      <td>-1.125246</td>\n",
       "      <td>-0.381719</td>\n",
       "      <td>1.813668</td>\n",
       "      <td>-0.911999</td>\n",
       "    </tr>\n",
       "    <tr>\n",
       "      <th>2013-01-03</th>\n",
       "      <td>-0.378763</td>\n",
       "      <td>0.279895</td>\n",
       "      <td>-0.093675</td>\n",
       "      <td>0.255060</td>\n",
       "    </tr>\n",
       "    <tr>\n",
       "      <th>2013-01-06</th>\n",
       "      <td>0.643405</td>\n",
       "      <td>0.530623</td>\n",
       "      <td>-1.363361</td>\n",
       "      <td>-0.537567</td>\n",
       "    </tr>\n",
       "    <tr>\n",
       "      <th>2013-01-05</th>\n",
       "      <td>-1.939081</td>\n",
       "      <td>1.987731</td>\n",
       "      <td>1.275682</td>\n",
       "      <td>-1.469973</td>\n",
       "    </tr>\n",
       "  </tbody>\n",
       "</table>\n",
       "</div>"
      ],
      "text/plain": [
       "                   A         B         C         D\n",
       "2013-01-04 -0.928351 -0.755839 -0.532296  0.844673\n",
       "2013-01-02 -0.995033 -0.750741 -2.201204  1.371349\n",
       "2013-01-01 -1.125246 -0.381719  1.813668 -0.911999\n",
       "2013-01-03 -0.378763  0.279895 -0.093675  0.255060\n",
       "2013-01-06  0.643405  0.530623 -1.363361 -0.537567\n",
       "2013-01-05 -1.939081  1.987731  1.275682 -1.469973"
      ]
     },
     "execution_count": 16,
     "metadata": {},
     "output_type": "execute_result"
    }
   ],
   "source": [
    "df.sort_values(by='B')"
   ]
  },
  {
   "cell_type": "markdown",
   "metadata": {},
   "source": [
    "Another important abstraction that is explicitly useful in pandas is pulling out specific elements of a DataFrame by position or value.\n"
   ]
  },
  {
   "cell_type": "code",
   "execution_count": 17,
   "metadata": {},
   "outputs": [
    {
     "data": {
      "text/html": [
       "<div>\n",
       "<table border=\"1\" class=\"dataframe\">\n",
       "  <thead>\n",
       "    <tr style=\"text-align: right;\">\n",
       "      <th></th>\n",
       "      <th>A</th>\n",
       "      <th>B</th>\n",
       "      <th>C</th>\n",
       "      <th>D</th>\n",
       "    </tr>\n",
       "  </thead>\n",
       "  <tbody>\n",
       "    <tr>\n",
       "      <th>2013-01-02</th>\n",
       "      <td>-0.995033</td>\n",
       "      <td>-0.750741</td>\n",
       "      <td>-2.201204</td>\n",
       "      <td>1.371349</td>\n",
       "    </tr>\n",
       "    <tr>\n",
       "      <th>2013-01-03</th>\n",
       "      <td>-0.378763</td>\n",
       "      <td>0.279895</td>\n",
       "      <td>-0.093675</td>\n",
       "      <td>0.255060</td>\n",
       "    </tr>\n",
       "    <tr>\n",
       "      <th>2013-01-04</th>\n",
       "      <td>-0.928351</td>\n",
       "      <td>-0.755839</td>\n",
       "      <td>-0.532296</td>\n",
       "      <td>0.844673</td>\n",
       "    </tr>\n",
       "  </tbody>\n",
       "</table>\n",
       "</div>"
      ],
      "text/plain": [
       "                   A         B         C         D\n",
       "2013-01-02 -0.995033 -0.750741 -2.201204  1.371349\n",
       "2013-01-03 -0.378763  0.279895 -0.093675  0.255060\n",
       "2013-01-04 -0.928351 -0.755839 -0.532296  0.844673"
      ]
     },
     "execution_count": 17,
     "metadata": {},
     "output_type": "execute_result"
    }
   ],
   "source": [
    "df['20130102':'20130104']"
   ]
  },
  {
   "cell_type": "code",
   "execution_count": 18,
   "metadata": {},
   "outputs": [
    {
     "data": {
      "text/plain": [
       "2013-01-02   -0.995033\n",
       "2013-01-03   -0.378763\n",
       "2013-01-04   -0.928351\n",
       "Freq: D, Name: A, dtype: float64"
      ]
     },
     "execution_count": 18,
     "metadata": {},
     "output_type": "execute_result"
    }
   ],
   "source": [
    "df['20130102':'20130104']['A']"
   ]
  },
  {
   "cell_type": "code",
   "execution_count": 19,
   "metadata": {},
   "outputs": [
    {
     "data": {
      "text/html": [
       "<div>\n",
       "<table border=\"1\" class=\"dataframe\">\n",
       "  <thead>\n",
       "    <tr style=\"text-align: right;\">\n",
       "      <th></th>\n",
       "      <th>A</th>\n",
       "      <th>B</th>\n",
       "      <th>C</th>\n",
       "      <th>D</th>\n",
       "    </tr>\n",
       "  </thead>\n",
       "  <tbody>\n",
       "    <tr>\n",
       "      <th>2013-01-03</th>\n",
       "      <td>-0.378763</td>\n",
       "      <td>0.279895</td>\n",
       "      <td>-0.093675</td>\n",
       "      <td>0.255060</td>\n",
       "    </tr>\n",
       "    <tr>\n",
       "      <th>2013-01-05</th>\n",
       "      <td>-1.939081</td>\n",
       "      <td>1.987731</td>\n",
       "      <td>1.275682</td>\n",
       "      <td>-1.469973</td>\n",
       "    </tr>\n",
       "    <tr>\n",
       "      <th>2013-01-06</th>\n",
       "      <td>0.643405</td>\n",
       "      <td>0.530623</td>\n",
       "      <td>-1.363361</td>\n",
       "      <td>-0.537567</td>\n",
       "    </tr>\n",
       "  </tbody>\n",
       "</table>\n",
       "</div>"
      ],
      "text/plain": [
       "                   A         B         C         D\n",
       "2013-01-03 -0.378763  0.279895 -0.093675  0.255060\n",
       "2013-01-05 -1.939081  1.987731  1.275682 -1.469973\n",
       "2013-01-06  0.643405  0.530623 -1.363361 -0.537567"
      ]
     },
     "execution_count": 19,
     "metadata": {},
     "output_type": "execute_result"
    }
   ],
   "source": [
    "df[df.B > 0]"
   ]
  },
  {
   "cell_type": "code",
   "execution_count": 20,
   "metadata": {},
   "outputs": [
    {
     "data": {
      "text/html": [
       "<div>\n",
       "<table border=\"1\" class=\"dataframe\">\n",
       "  <thead>\n",
       "    <tr style=\"text-align: right;\">\n",
       "      <th></th>\n",
       "      <th>A</th>\n",
       "      <th>B</th>\n",
       "      <th>C</th>\n",
       "      <th>D</th>\n",
       "    </tr>\n",
       "  </thead>\n",
       "  <tbody>\n",
       "    <tr>\n",
       "      <th>2013-01-01</th>\n",
       "      <td>False</td>\n",
       "      <td>False</td>\n",
       "      <td>True</td>\n",
       "      <td>False</td>\n",
       "    </tr>\n",
       "    <tr>\n",
       "      <th>2013-01-02</th>\n",
       "      <td>False</td>\n",
       "      <td>False</td>\n",
       "      <td>False</td>\n",
       "      <td>True</td>\n",
       "    </tr>\n",
       "    <tr>\n",
       "      <th>2013-01-03</th>\n",
       "      <td>False</td>\n",
       "      <td>True</td>\n",
       "      <td>False</td>\n",
       "      <td>True</td>\n",
       "    </tr>\n",
       "    <tr>\n",
       "      <th>2013-01-04</th>\n",
       "      <td>False</td>\n",
       "      <td>False</td>\n",
       "      <td>False</td>\n",
       "      <td>True</td>\n",
       "    </tr>\n",
       "    <tr>\n",
       "      <th>2013-01-05</th>\n",
       "      <td>False</td>\n",
       "      <td>True</td>\n",
       "      <td>True</td>\n",
       "      <td>False</td>\n",
       "    </tr>\n",
       "    <tr>\n",
       "      <th>2013-01-06</th>\n",
       "      <td>True</td>\n",
       "      <td>True</td>\n",
       "      <td>False</td>\n",
       "      <td>False</td>\n",
       "    </tr>\n",
       "  </tbody>\n",
       "</table>\n",
       "</div>"
      ],
      "text/plain": [
       "                A      B      C      D\n",
       "2013-01-01  False  False   True  False\n",
       "2013-01-02  False  False  False   True\n",
       "2013-01-03  False   True  False   True\n",
       "2013-01-04  False  False  False   True\n",
       "2013-01-05  False   True   True  False\n",
       "2013-01-06   True   True  False  False"
      ]
     },
     "execution_count": 20,
     "metadata": {},
     "output_type": "execute_result"
    }
   ],
   "source": [
    "df > 0"
   ]
  },
  {
   "cell_type": "code",
   "execution_count": 21,
   "metadata": {},
   "outputs": [
    {
     "data": {
      "text/html": [
       "<div>\n",
       "<table border=\"1\" class=\"dataframe\">\n",
       "  <thead>\n",
       "    <tr style=\"text-align: right;\">\n",
       "      <th></th>\n",
       "      <th>A</th>\n",
       "      <th>B</th>\n",
       "      <th>C</th>\n",
       "      <th>D</th>\n",
       "    </tr>\n",
       "  </thead>\n",
       "  <tbody>\n",
       "    <tr>\n",
       "      <th>2013-01-01</th>\n",
       "      <td>NaN</td>\n",
       "      <td>NaN</td>\n",
       "      <td>1.813668</td>\n",
       "      <td>NaN</td>\n",
       "    </tr>\n",
       "    <tr>\n",
       "      <th>2013-01-02</th>\n",
       "      <td>NaN</td>\n",
       "      <td>NaN</td>\n",
       "      <td>NaN</td>\n",
       "      <td>1.371349</td>\n",
       "    </tr>\n",
       "    <tr>\n",
       "      <th>2013-01-03</th>\n",
       "      <td>NaN</td>\n",
       "      <td>0.279895</td>\n",
       "      <td>NaN</td>\n",
       "      <td>0.255060</td>\n",
       "    </tr>\n",
       "    <tr>\n",
       "      <th>2013-01-04</th>\n",
       "      <td>NaN</td>\n",
       "      <td>NaN</td>\n",
       "      <td>NaN</td>\n",
       "      <td>0.844673</td>\n",
       "    </tr>\n",
       "    <tr>\n",
       "      <th>2013-01-05</th>\n",
       "      <td>NaN</td>\n",
       "      <td>1.987731</td>\n",
       "      <td>1.275682</td>\n",
       "      <td>NaN</td>\n",
       "    </tr>\n",
       "    <tr>\n",
       "      <th>2013-01-06</th>\n",
       "      <td>0.643405</td>\n",
       "      <td>0.530623</td>\n",
       "      <td>NaN</td>\n",
       "      <td>NaN</td>\n",
       "    </tr>\n",
       "  </tbody>\n",
       "</table>\n",
       "</div>"
      ],
      "text/plain": [
       "                   A         B         C         D\n",
       "2013-01-01       NaN       NaN  1.813668       NaN\n",
       "2013-01-02       NaN       NaN       NaN  1.371349\n",
       "2013-01-03       NaN  0.279895       NaN  0.255060\n",
       "2013-01-04       NaN       NaN       NaN  0.844673\n",
       "2013-01-05       NaN  1.987731  1.275682       NaN\n",
       "2013-01-06  0.643405  0.530623       NaN       NaN"
      ]
     },
     "execution_count": 21,
     "metadata": {},
     "output_type": "execute_result"
    }
   ],
   "source": [
    "df[df > 0]"
   ]
  },
  {
   "cell_type": "code",
   "execution_count": 22,
   "metadata": {},
   "outputs": [
    {
     "data": {
      "text/html": [
       "<div>\n",
       "<table border=\"1\" class=\"dataframe\">\n",
       "  <thead>\n",
       "    <tr style=\"text-align: right;\">\n",
       "      <th></th>\n",
       "      <th>A</th>\n",
       "      <th>B</th>\n",
       "      <th>C</th>\n",
       "      <th>D</th>\n",
       "    </tr>\n",
       "  </thead>\n",
       "  <tbody>\n",
       "    <tr>\n",
       "      <th>2013-01-01</th>\n",
       "      <td>0.000000</td>\n",
       "      <td>-0.381719</td>\n",
       "      <td>1.813668</td>\n",
       "      <td>-0.911999</td>\n",
       "    </tr>\n",
       "    <tr>\n",
       "      <th>2013-01-02</th>\n",
       "      <td>-0.995033</td>\n",
       "      <td>-0.750741</td>\n",
       "      <td>-2.201204</td>\n",
       "      <td>1.371349</td>\n",
       "    </tr>\n",
       "    <tr>\n",
       "      <th>2013-01-03</th>\n",
       "      <td>-0.378763</td>\n",
       "      <td>0.279895</td>\n",
       "      <td>-0.093675</td>\n",
       "      <td>0.255060</td>\n",
       "    </tr>\n",
       "    <tr>\n",
       "      <th>2013-01-04</th>\n",
       "      <td>-0.928351</td>\n",
       "      <td>-0.755839</td>\n",
       "      <td>-0.532296</td>\n",
       "      <td>0.844673</td>\n",
       "    </tr>\n",
       "    <tr>\n",
       "      <th>2013-01-05</th>\n",
       "      <td>-1.939081</td>\n",
       "      <td>1.987731</td>\n",
       "      <td>1.275682</td>\n",
       "      <td>-1.469973</td>\n",
       "    </tr>\n",
       "    <tr>\n",
       "      <th>2013-01-06</th>\n",
       "      <td>0.643405</td>\n",
       "      <td>0.530623</td>\n",
       "      <td>-1.363361</td>\n",
       "      <td>-0.537567</td>\n",
       "    </tr>\n",
       "  </tbody>\n",
       "</table>\n",
       "</div>"
      ],
      "text/plain": [
       "                   A         B         C         D\n",
       "2013-01-01  0.000000 -0.381719  1.813668 -0.911999\n",
       "2013-01-02 -0.995033 -0.750741 -2.201204  1.371349\n",
       "2013-01-03 -0.378763  0.279895 -0.093675  0.255060\n",
       "2013-01-04 -0.928351 -0.755839 -0.532296  0.844673\n",
       "2013-01-05 -1.939081  1.987731  1.275682 -1.469973\n",
       "2013-01-06  0.643405  0.530623 -1.363361 -0.537567"
      ]
     },
     "execution_count": 22,
     "metadata": {},
     "output_type": "execute_result"
    }
   ],
   "source": [
    "# Setting values\n",
    "df.at[dates[0],'A'] = 0\n",
    "df"
   ]
  },
  {
   "cell_type": "markdown",
   "metadata": {},
   "source": [
    "A final class of utilities that are useful in this lecture are operations on DataFrames."
   ]
  },
  {
   "cell_type": "code",
   "execution_count": 23,
   "metadata": {},
   "outputs": [
    {
     "data": {
      "text/plain": [
       "A   -0.599637\n",
       "B    0.151658\n",
       "C   -0.183531\n",
       "D   -0.074743\n",
       "dtype: float64"
      ]
     },
     "execution_count": 23,
     "metadata": {},
     "output_type": "execute_result"
    }
   ],
   "source": [
    "df.mean()"
   ]
  },
  {
   "cell_type": "code",
   "execution_count": 24,
   "metadata": {},
   "outputs": [
    {
     "data": {
      "text/plain": [
       "2013-01-01    0.129988\n",
       "2013-01-02   -0.643907\n",
       "2013-01-03    0.015629\n",
       "2013-01-04   -0.342953\n",
       "2013-01-05   -0.036410\n",
       "2013-01-06   -0.181725\n",
       "Freq: D, dtype: float64"
      ]
     },
     "execution_count": 24,
     "metadata": {},
     "output_type": "execute_result"
    }
   ],
   "source": [
    "# Along the other axis\n",
    "df.mean(1)"
   ]
  },
  {
   "cell_type": "code",
   "execution_count": 25,
   "metadata": {},
   "outputs": [
    {
     "data": {
      "text/html": [
       "<div>\n",
       "<table border=\"1\" class=\"dataframe\">\n",
       "  <thead>\n",
       "    <tr style=\"text-align: right;\">\n",
       "      <th></th>\n",
       "      <th>A</th>\n",
       "      <th>B</th>\n",
       "      <th>C</th>\n",
       "      <th>D</th>\n",
       "    </tr>\n",
       "  </thead>\n",
       "  <tbody>\n",
       "    <tr>\n",
       "      <th>2013-01-01</th>\n",
       "      <td>0.000000</td>\n",
       "      <td>-0.381719</td>\n",
       "      <td>1.813668</td>\n",
       "      <td>-0.911999</td>\n",
       "    </tr>\n",
       "    <tr>\n",
       "      <th>2013-01-02</th>\n",
       "      <td>-0.995033</td>\n",
       "      <td>-1.132460</td>\n",
       "      <td>-0.387536</td>\n",
       "      <td>0.459351</td>\n",
       "    </tr>\n",
       "    <tr>\n",
       "      <th>2013-01-03</th>\n",
       "      <td>-1.373796</td>\n",
       "      <td>-0.852565</td>\n",
       "      <td>-0.481211</td>\n",
       "      <td>0.714410</td>\n",
       "    </tr>\n",
       "    <tr>\n",
       "      <th>2013-01-04</th>\n",
       "      <td>-2.302147</td>\n",
       "      <td>-1.608404</td>\n",
       "      <td>-1.013506</td>\n",
       "      <td>1.559083</td>\n",
       "    </tr>\n",
       "    <tr>\n",
       "      <th>2013-01-05</th>\n",
       "      <td>-4.241228</td>\n",
       "      <td>0.379327</td>\n",
       "      <td>0.262175</td>\n",
       "      <td>0.089111</td>\n",
       "    </tr>\n",
       "    <tr>\n",
       "      <th>2013-01-06</th>\n",
       "      <td>-3.597822</td>\n",
       "      <td>0.909949</td>\n",
       "      <td>-1.101186</td>\n",
       "      <td>-0.448456</td>\n",
       "    </tr>\n",
       "  </tbody>\n",
       "</table>\n",
       "</div>"
      ],
      "text/plain": [
       "                   A         B         C         D\n",
       "2013-01-01  0.000000 -0.381719  1.813668 -0.911999\n",
       "2013-01-02 -0.995033 -1.132460 -0.387536  0.459351\n",
       "2013-01-03 -1.373796 -0.852565 -0.481211  0.714410\n",
       "2013-01-04 -2.302147 -1.608404 -1.013506  1.559083\n",
       "2013-01-05 -4.241228  0.379327  0.262175  0.089111\n",
       "2013-01-06 -3.597822  0.909949 -1.101186 -0.448456"
      ]
     },
     "execution_count": 25,
     "metadata": {},
     "output_type": "execute_result"
    }
   ],
   "source": [
    "# Applying standard functions to the data\n",
    "df.apply(numpy.cumsum)"
   ]
  },
  {
   "cell_type": "code",
   "execution_count": 26,
   "metadata": {},
   "outputs": [
    {
     "data": {
      "text/plain": [
       "A    2.582486\n",
       "B    2.743569\n",
       "C    4.014872\n",
       "D    2.841322\n",
       "dtype: float64"
      ]
     },
     "execution_count": 26,
     "metadata": {},
     "output_type": "execute_result"
    }
   ],
   "source": [
    "# Applying custom, temporary functions to the data\n",
    "df.apply(lambda x: x.max() - x.min())"
   ]
  },
  {
   "cell_type": "markdown",
   "metadata": {},
   "source": [
    "### Doing my homework\n",
    "\n",
    "I am tasked with analyzing the market for earth imagery from satellites.  We will analyze a cleaned version of a dataset that includes information on all active satellites currently in orbit.  The data is saved as a CSV in this repository.  Read the data."
   ]
  },
  {
   "cell_type": "code",
   "execution_count": 27,
   "metadata": {},
   "outputs": [
    {
     "data": {
      "text/html": [
       "<div>\n",
       "<table border=\"1\" class=\"dataframe\">\n",
       "  <thead>\n",
       "    <tr style=\"text-align: right;\">\n",
       "      <th></th>\n",
       "      <th>country</th>\n",
       "      <th>users</th>\n",
       "      <th>purpose</th>\n",
       "      <th>date</th>\n",
       "    </tr>\n",
       "  </thead>\n",
       "  <tbody>\n",
       "    <tr>\n",
       "      <th>0</th>\n",
       "      <td>Denmark</td>\n",
       "      <td>Civil</td>\n",
       "      <td>Earth Observation</td>\n",
       "      <td>2016-04-25</td>\n",
       "    </tr>\n",
       "    <tr>\n",
       "      <th>1</th>\n",
       "      <td>Multinational</td>\n",
       "      <td>Commercial</td>\n",
       "      <td>Communications</td>\n",
       "      <td>2014-02-06</td>\n",
       "    </tr>\n",
       "    <tr>\n",
       "      <th>2</th>\n",
       "      <td>Multinational</td>\n",
       "      <td>Commercial</td>\n",
       "      <td>Communications</td>\n",
       "      <td>2016-06-15</td>\n",
       "    </tr>\n",
       "    <tr>\n",
       "      <th>3</th>\n",
       "      <td>Multinational</td>\n",
       "      <td>Commercial</td>\n",
       "      <td>Communications</td>\n",
       "      <td>1997-08-19</td>\n",
       "    </tr>\n",
       "    <tr>\n",
       "      <th>4</th>\n",
       "      <td>Multinational</td>\n",
       "      <td>Commercial</td>\n",
       "      <td>Communications</td>\n",
       "      <td>2015-03-02</td>\n",
       "    </tr>\n",
       "  </tbody>\n",
       "</table>\n",
       "</div>"
      ],
      "text/plain": [
       "         country       users            purpose        date\n",
       "0        Denmark       Civil  Earth Observation  2016-04-25\n",
       "1  Multinational  Commercial     Communications  2014-02-06\n",
       "2  Multinational  Commercial     Communications  2016-06-15\n",
       "3  Multinational  Commercial     Communications  1997-08-19\n",
       "4  Multinational  Commercial     Communications  2015-03-02"
      ]
     },
     "execution_count": 27,
     "metadata": {},
     "output_type": "execute_result"
    }
   ],
   "source": [
    "data = pandas.read_csv('satdata.csv')\n",
    "data[['country', 'users', 'purpose', 'date']].head()"
   ]
  },
  {
   "cell_type": "markdown",
   "metadata": {},
   "source": [
    "**PRACTICE 3**.  How many satellites are currently in orbit?"
   ]
  },
  {
   "cell_type": "code",
   "execution_count": null,
   "metadata": {
    "collapsed": true
   },
   "outputs": [],
   "source": [
    "# Insert answer into here"
   ]
  },
  {
   "cell_type": "markdown",
   "metadata": {},
   "source": [
    "**PRACTICE 4**.  What is the average, max, and minimum size of the satellites in orbit?"
   ]
  },
  {
   "cell_type": "code",
   "execution_count": null,
   "metadata": {
    "collapsed": true
   },
   "outputs": [],
   "source": [
    "# Insert answer into here"
   ]
  },
  {
   "cell_type": "markdown",
   "metadata": {},
   "source": [
    "**PRACTICE 5**.  How many earth observing or earth science satellites satellites are currently in orbit?  How many of these satellites are for strictly non-military users? Save the subset as `sub`."
   ]
  },
  {
   "cell_type": "code",
   "execution_count": null,
   "metadata": {
    "collapsed": true
   },
   "outputs": [],
   "source": [
    "# Insert answer into here"
   ]
  },
  {
   "cell_type": "markdown",
   "metadata": {},
   "source": [
    "**PRACTICE 6**.  Create a histogram of the detailed purpose within the class of earth observing, non-military satellites."
   ]
  },
  {
   "cell_type": "code",
   "execution_count": null,
   "metadata": {
    "collapsed": true
   },
   "outputs": [],
   "source": [
    "# Insert answer into here"
   ]
  },
  {
   "cell_type": "markdown",
   "metadata": {},
   "source": [
    "**PRACTICE 7**.  Create a sub list of earth observing, non-military satellites with the following attributes.  Create a timeseries graph of the cumulative number of these types of satellites in orbit.  Resample the data to graph by week, rather than by day.  \n",
    "\n",
    "```python\n",
    "acceptables = [\n",
    "    'Radar Imaging/Earth Science',\n",
    "    'Optical Imaging/Automatic Identification System (AIS)',\n",
    "    'Optical Imaging/Meteorology',\n",
    "    'Hyperspectral Imaging',\n",
    "    'Optical Imaging/Infrared Imaging',\n",
    "    'Multispectral Imaging',\n",
    "    'Radar Imaging',\n",
    "    'Optical Imaging (video)',\n",
    "    'Optical Imaging',\n",
    "    'Earth Science',\n",
    "    'Meteorology/Earth Science',\n",
    "    'Optical Imaging/Meterology'\n",
    "]\n",
    "```"
   ]
  },
  {
   "cell_type": "code",
   "execution_count": 41,
   "metadata": {},
   "outputs": [],
   "source": [
    "# Insert answer into here"
   ]
  },
  {
   "cell_type": "markdown",
   "metadata": {},
   "source": [
    "**PRACTICE 8**.  There is a jump in orbiting satellites around April 2016.  Why?  Who sent so many satellites into orbit?  How many?"
   ]
  },
  {
   "cell_type": "code",
   "execution_count": 52,
   "metadata": {},
   "outputs": [],
   "source": [
    "# Insert answer into here"
   ]
  }
 ],
 "metadata": {
  "kernelspec": {
   "display_name": "Python 3",
   "language": "python",
   "name": "python3"
  },
  "language_info": {
   "codemirror_mode": {
    "name": "ipython",
    "version": 3
   },
   "file_extension": ".py",
   "mimetype": "text/x-python",
   "name": "python",
   "nbconvert_exporter": "python",
   "pygments_lexer": "ipython3",
   "version": "3.6.1"
  }
 },
 "nbformat": 4,
 "nbformat_minor": 2
}
